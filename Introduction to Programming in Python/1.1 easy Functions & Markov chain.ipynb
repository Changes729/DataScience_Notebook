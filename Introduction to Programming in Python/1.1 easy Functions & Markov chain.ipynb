{
 "cells": [
  {
   "cell_type": "markdown",
   "metadata": {},
   "source": [
    "# 2018.02.13"
   ]
  },
  {
   "cell_type": "markdown",
   "metadata": {},
   "source": [
    "## 标准绘图"
   ]
  },
  {
   "cell_type": "markdown",
   "metadata": {},
   "source": [
    "***Filename : CoordinateScale.py***\n",
    "``` python\n",
    "import stddraw\n",
    "\n",
    "numOfLines = 50 #change the number.\n",
    "\n",
    "stddraw.setXscale(0, numOfLines)\n",
    "stddraw.setYscale(0, numOfLines)\n",
    "for i in range(numOfLines + 1):\n",
    "    stddraw.line(0, numOfLines - i, i, 0)\n",
    "stddraw.show()\n",
    "```"
   ]
  },
  {
   "cell_type": "code",
   "execution_count": 22,
   "metadata": {},
   "outputs": [],
   "source": [
    "#run.\n",
    "!python CoordinateScale.py"
   ]
  },
  {
   "cell_type": "markdown",
   "metadata": {},
   "source": [
    "## 随机Web冲浪模型"
   ]
  },
  {
   "cell_type": "markdown",
   "metadata": {},
   "source": [
    "假定每一个网页<font color=#92D050>(page)</font>中包括了规定数量的超链接<font color=#92D050>(Link)</font>，每个链接又会跳转到另一个页面。**研究的目标**为一个人随机从一个页面到另一个页面之间的行为，这个人也可以在导航栏键入网页地址跳转到下一个界面。\n",
    "\n",
    "模型采用***90-10法则***，也就是有**90%的人会点击链接进入下一个网页**，而10%的人会输入网页网址跳转。"
   ]
  },
  {
   "cell_type": "code",
   "execution_count": 24,
   "metadata": {},
   "outputs": [
    {
     "name": "stdout",
     "output_type": "stream",
     "text": [
      "5 \n",
      "0 1 \n",
      "1 2  1 2 \n",
      "1 3  1 3  1 4 \n",
      "2 3 \n",
      "3 0 \n",
      "4 0  4 2 \n"
     ]
    }
   ],
   "source": [
    "#see data in tiny.txt.\n",
    "!more tiny.txt"
   ]
  },
  {
   "cell_type": "markdown",
   "metadata": {},
   "source": [
    "***Filename : transition.py***\n",
    "```python\n",
    "import stdio\n",
    "import stdarray\n",
    "\n",
    "# Read links from standard input and write the corresponding\n",
    "# transition matrix to standard output. First, process the input\n",
    "# to count the outlinks from each page. Then apply the 90-10 rule to\n",
    "# compute the transition matrix. Assume that there are no pages that\n",
    "# have no outlinks in the input.\n",
    "\n",
    "n = stdio.readInt()\n",
    "\n",
    "linkCounts = stdarray.create2D(n, n, 0)\n",
    "outDegrees = stdarray.create1D(n, 0)\n",
    "\n",
    "while not stdio.isEmpty():\n",
    "    # Accumulate link counts.\n",
    "    i = stdio.readInt()\n",
    "    j = stdio.readInt()\n",
    "    outDegrees[i] += 1\n",
    "    linkCounts[i][j] += 1\n",
    "\n",
    "stdio.writeln(str(n) + ' ' + str(n))\n",
    "\n",
    "for i in range(n):\n",
    "    # Print probability distribution for row i.\n",
    "    for j in range(n):\n",
    "        # Print probability for column j.\n",
    "        p = (.90 * linkCounts[i][j] / outDegrees[i]) + (.10 / n)\n",
    "        stdio.writef('%8.5f', p)\n",
    "    stdio.writeln()\n",
    "```"
   ]
  },
  {
   "cell_type": "code",
   "execution_count": 25,
   "metadata": {},
   "outputs": [
    {
     "name": "stdout",
     "output_type": "stream",
     "text": [
      "5 5\n",
      " 0.02000 0.92000 0.02000 0.02000 0.02000\n",
      " 0.02000 0.02000 0.38000 0.38000 0.20000\n",
      " 0.02000 0.02000 0.02000 0.92000 0.02000\n",
      " 0.92000 0.02000 0.02000 0.02000 0.02000\n",
      " 0.47000 0.02000 0.47000 0.02000 0.02000\n"
     ]
    }
   ],
   "source": [
    "#run.\n",
    "!python transition.py < tiny.txt"
   ]
  },
  {
   "cell_type": "markdown",
   "metadata": {},
   "source": [
    "上面的运算结果很好的展示了5个页面之间的跳转关系。"
   ]
  },
  {
   "cell_type": "markdown",
   "metadata": {},
   "source": [
    "| | Page1 | Page2 | Page3 | Page4 | Page5 |\n",
    "| - | - | - | - | - | - |\n",
    "| Page1 | 0.02000 | 0.92000 | 0.02000 | 0.02000 | 0.02000 |\n",
    "| Page2 | 0.02000 | 0.02000 | 0.38000 | 0.38000 | 0.20000 |\n",
    "| Page3 | 0.02000 | 0.02000 | 0.02000 | 0.92000 | 0.02000 |\n",
    "| Page4 | 0.92000 | 0.02000 | 0.02000 | 0.02000 | 0.02000 |\n",
    "| Page5 | 0.47000 | 0.02000 | 0.47000 | 0.02000 | 0.02000 |"
   ]
  },
  {
   "cell_type": "markdown",
   "metadata": {},
   "source": [
    "接下来，如果我们正在Page1，那么从Page1到其他各个网址的概率就是如下所示了："
   ]
  },
  {
   "cell_type": "markdown",
   "metadata": {},
   "source": [
    "| | Page1 | Page2 | Page3 | Page4 | Page5 |\n",
    "| - | - | - | - | - | - |\n",
    "| Page1 | 0.02000 | 0.92000 | 0.02000 | 0.02000 | 0.02000 |"
   ]
  },
  {
   "cell_type": "markdown",
   "metadata": {},
   "source": [
    "## 马尔科夫链"
   ]
  },
  {
   "cell_type": "markdown",
   "metadata": {},
   "source": [
    "俄罗斯数学家安德雷·马尔科夫发现了这个概念，其基本定理是：**不管初始值如何，随机过程最终会趋于稳定，且继续增加随机过程不会产生新的信息，这种现象称为<font color=red>混合</font>**。但是马尔科夫链的基本应用场景就是要保证整个过程随机。"
   ]
  },
  {
   "cell_type": "markdown",
   "metadata": {},
   "source": [
    "***Filename : randomsurfer.py***\n",
    "```python\n",
    "import stdio\n",
    "import stdarray\n",
    "import sys\n",
    "import random\n",
    "\n",
    "# Accept an integer moves as a command-line argument. Read a\n",
    "# transition matrix from standard input. Perform moves moves as\n",
    "# prescribed by the transition matrix, and write to standard output\n",
    "# the relative frequency of hitting each page.\n",
    "\n",
    "moves = int(sys.argv[1])\n",
    "\n",
    "n = stdio.readInt()\n",
    "stdio.readInt() # Discard the second int of standard input.\n",
    "\n",
    "# Read the transition matrix from standard input.\n",
    "# p[i][j] is the probability that the surfer moves from\n",
    "# page i to page j.\n",
    "p = stdarray.create2D(n, n, 0.0)\n",
    "for i in range(n):\n",
    "    for j in range(n):\n",
    "        p[i][j] = stdio.readFloat()\n",
    "\n",
    "# Perform the simulation, thus computing the hits array.\n",
    "# hits[i] is the number of times the surfer hits page i.\n",
    "hits = stdarray.create1D(n, 0)\n",
    "page = 0  # Start at page 0.\n",
    "for i in range(moves):\n",
    "    # Make one random move.\n",
    "    r = random.random()\n",
    "    total = 0.0\n",
    "    for j in range(0, n):\n",
    "        # Find interval containing r.\n",
    "        total += p[page][j]\n",
    "        if r < total:\n",
    "            page = j\n",
    "            break\n",
    "    hits[page] += 1\n",
    "\n",
    "# Write the page ranks.\n",
    "for v in hits:\n",
    "    stdio.writef(\"%8.5f\", 1.0 * v / moves)\n",
    "stdio.writeln()\n",
    "```"
   ]
  },
  {
   "cell_type": "code",
   "execution_count": 1,
   "metadata": {},
   "outputs": [
    {
     "name": "stdout",
     "output_type": "stream",
     "text": [
      " 0.30000 0.27000 0.11000 0.26000 0.06000\n",
      " 0.27250 0.26470 0.14890 0.24690 0.06700\n",
      " 0.27308 0.26575 0.14614 0.24719 0.06783\n"
     ]
    }
   ],
   "source": [
    "#run.\n",
    "!python transition.py < tiny.txt | python randomsurfer.py 100\n",
    "!python transition.py < tiny.txt | python randomsurfer.py 10000\n",
    "!python transition.py < tiny.txt | python randomsurfer.py 10000000"
   ]
  },
  {
   "cell_type": "markdown",
   "metadata": {},
   "source": [
    "基于各种原因，Web的准确页面排名在实践中具有重要价值。首先，基于页面排名网页以匹配搜索条件的Web搜索比其他方法更能满足用户的期望。其次，页面排名的可信度和可靠度导致基于页面排名的大量Web广告费用的投入。\n",
    "\n",
    "即便在我们简单的例子中，页面排名结果也会说服那些广告商将四倍于页面4的广告费用投放在页面0上，计算机页面排名是一个数学问题，一个有趣的计算机科学难题，也是一个巨大的商机，三位一体。"
   ]
  },
  {
   "cell_type": "markdown",
   "metadata": {},
   "source": [
    "## 混合马尔科夫链"
   ]
  },
  {
   "cell_type": "markdown",
   "metadata": {},
   "source": [
    "由于马尔科夫链的基本极限定理，不管初始值如何，整个过程都将收敛至相同的向量，因此，原来的矩阵自乘算法就可以变成向量-矩阵乘法，大大减小了运算量。"
   ]
  },
  {
   "cell_type": "markdown",
   "metadata": {},
   "source": [
    "***Filename : markov.py ***\n",
    "```python\n",
    "import stdio\n",
    "import stdarray\n",
    "import sys\n",
    "\n",
    "# Accept integer moves from the command-line, and read a transition\n",
    "# matrix from standard input. Compute the probabilities that a\n",
    "# random surfer lands on each page (page ranks) after moves\n",
    "# matrix-vector multiplies, and write the page ranks to standard\n",
    "# output.\n",
    "\n",
    "moves = int(sys.argv[1])\n",
    "\n",
    "n = stdio.readInt()\n",
    "stdio.readInt() # Discard the second int of standard input.\n",
    "\n",
    "# Read the transition matrix from standard input.\n",
    "# probs[i][j] is the probability that the surfer moves from\n",
    "# page i to page j.\n",
    "probs = stdarray.create2D(n, n, 0.0)\n",
    "for i in range(n):\n",
    "    for j in range(n):\n",
    "        probs[i][j] = stdio.readFloat()\n",
    "\n",
    "# Use the power method to compute page ranks.\n",
    "ranks = stdarray.create1D(n, 0.0)\n",
    "ranks[0] = 1.0\n",
    "for i in range(moves):\n",
    "    # Compute effect of next move on page ranks.\n",
    "    newRanks = stdarray.create1D(n, 0.0)\n",
    "    for j in range(n):\n",
    "        # New rank of page j is dot product\n",
    "        # of old ranks and column j of probs.\n",
    "        for k in range(n):\n",
    "            newRanks[j] += ranks[k] * probs[k][j]\n",
    "    ranks = newRanks\n",
    "\n",
    "# Write the page ranks.\n",
    "for rank in ranks:\n",
    "    stdio.writef(\"%8.5f\", rank)\n",
    "stdio.writeln()\n",
    "```"
   ]
  },
  {
   "cell_type": "code",
   "execution_count": 4,
   "metadata": {},
   "outputs": [
    {
     "name": "stdout",
     "output_type": "stream",
     "text": [
      " 0.27245 0.26515 0.14669 0.24764 0.06806\n",
      " 0.27303 0.26573 0.14618 0.24723 0.06783\n"
     ]
    }
   ],
   "source": [
    "! python transition.py < tiny.txt | python markov.py 20\n",
    "! python transition.py < tiny.txt | python markov.py 40"
   ]
  }
 ],
 "metadata": {
  "kernelspec": {
   "display_name": "Python 3",
   "language": "python",
   "name": "python3"
  },
  "language_info": {
   "codemirror_mode": {
    "name": "ipython",
    "version": 3
   },
   "file_extension": ".py",
   "mimetype": "text/x-python",
   "name": "python",
   "nbconvert_exporter": "python",
   "pygments_lexer": "ipython3",
   "version": "3.6.3"
  }
 },
 "nbformat": 4,
 "nbformat_minor": 2
}
