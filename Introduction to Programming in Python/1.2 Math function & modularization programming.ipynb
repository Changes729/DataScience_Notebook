{
 "cells": [
  {
   "cell_type": "markdown",
   "metadata": {},
   "source": [
    "# 2018.2.14"
   ]
  },
  {
   "cell_type": "markdown",
   "metadata": {},
   "source": [
    "## 标准正态高斯概率密度函数"
   ]
  },
  {
   "cell_type": "markdown",
   "metadata": {},
   "source": [
    "**标准正态（高斯）概率密度函数**<font color=#92D050>(The standard normal (Gaussian) probability density function )</font>的特征是钟型曲线，其定义公式为："
   ]
  },
  {
   "cell_type": "markdown",
   "metadata": {},
   "source": [
    "$$\\phi(x)=\\frac{e^{-x^2/2}}{\\sqrt{2\\pi}} $$"
   ]
  },
  {
   "cell_type": "markdown",
   "metadata": {},
   "source": [
    "**标准正态（高斯）累积分布函数**<font color=#92D050>(The standard normal (Gaussian) cumulative distribution function )</font> $\\Phi(z)$定义为函数$\\phi(x)$下、x轴之上、垂线$x=z$之左的区域面积。"
   ]
  },
  {
   "cell_type": "code",
   "execution_count": 4,
   "metadata": {},
   "outputs": [
    {
     "name": "stdout",
     "output_type": "stream",
     "text": [
      "0.17050966869132106\n"
     ]
    }
   ],
   "source": [
    "#-----------------------------------------------------------------------\n",
    "# gaussian.py\n",
    "#-----------------------------------------------------------------------\n",
    "\n",
    "import sys\n",
    "import stdio\n",
    "import math\n",
    "\n",
    "#-----------------------------------------------------------------------\n",
    "\n",
    "# Return the value of the Gaussian probability function with mean mu\n",
    "# and standard deviation sigma at the given x value.\n",
    "\n",
    "def pdf(x, mu=0.0, sigma=1.0):\n",
    "    x = float(x - mu) / sigma\n",
    "    return math.exp(-x*x/2.0) / math.sqrt(2.0*math.pi) / sigma\n",
    "\n",
    "#-----------------------------------------------------------------------\n",
    "\n",
    "# Return the value of the cumulative Gaussian distribution function\n",
    "# with mean mu and standard deviation sigma at the given z value.\n",
    "\n",
    "def cdf(z, mu=0.0, sigma=1.0):\n",
    "    z = float(z - mu) / sigma\n",
    "    if z < -8.0: return 0.0\n",
    "    if z > +8.0: return 1.0\n",
    "    total = 0.0\n",
    "    term = z\n",
    "    i = 3\n",
    "    while total != total + term:\n",
    "        total += term\n",
    "        term *= z * z / i\n",
    "        i += 2\n",
    "    return 0.5 + total * pdf(z)\n",
    "\n",
    "#-----------------------------------------------------------------------\n",
    "\n",
    "# Accept floats z, mu, and sigma as command-line arguments. Use them\n",
    "# to test the phi() and Phi() functions. Write the\n",
    "# results to standard output.\n",
    "\n",
    "def main():\n",
    "    #z = float(sys.argv[1])\n",
    "    #mu = float(sys.argv[2])\n",
    "    #sigma = float(sys.argv[3])\n",
    "    #stdio.writeln(cdf(z, mu, sigma))\n",
    "    \n",
    "    ##change the number.\n",
    "    z = 820.0\n",
    "    mu = 1019.0\n",
    "    sigma = 209.0\n",
    "    \n",
    "    print(cdf(z, mu, sigma))\n",
    "   \n",
    "if __name__ == '__main__':\n",
    "    main()"
   ]
  },
  {
   "cell_type": "markdown",
   "metadata": {},
   "source": [
    "## 迭代函数过程"
   ]
  },
  {
   "cell_type": "markdown",
   "metadata": {},
   "source": [
    "科学家发现，通过简单的计算过程，可获得出人意料的复杂视觉图形。"
   ]
  },
  {
   "cell_type": "markdown",
   "metadata": {},
   "source": [
    "```python\n",
    "#-----------------------------------------------------------------------\n",
    "# ifs.py\n",
    "#-----------------------------------------------------------------------\n",
    "\n",
    "import sys\n",
    "import stdarray\n",
    "import stdrandom\n",
    "import stddraw\n",
    "\n",
    "#-----------------------------------------------------------------------\n",
    "\n",
    "# Accept integer n as a command-line argument. Read a\n",
    "# 1-by-m vector (probabilities) and two m-by-3 matrices (coefficients\n",
    "# for updating x and y, respectively) from standard input. Plot the\n",
    "# results as a set of n points to standard draw.\n",
    "\n",
    "def main():\n",
    "    n = int(sys.argv[1])\n",
    "    dist = stdarray.readFloat1D()\n",
    "    cx = stdarray.readFloat2D()\n",
    "    cy = stdarray.readFloat2D()\n",
    "    x = 0.0\n",
    "    y = 0.0\n",
    "    stddraw.setPenRadius(0.0)\n",
    "    for i in range(n):\n",
    "        r = stdrandom.discrete(dist)\n",
    "        x0 = cx[r][0]*x + cx[r][1]*y + cx[r][2]\n",
    "        y0 = cy[r][0]*x + cy[r][1]*y + cy[r][2]\n",
    "        x = x0\n",
    "        y = y0\n",
    "        stddraw.point(x, y)\n",
    "    stddraw.show()\n",
    "\n",
    "if __name__ == '__main__':\n",
    "    main()\n",
    "```"
   ]
  },
  {
   "cell_type": "code",
   "execution_count": 4,
   "metadata": {},
   "outputs": [],
   "source": [
    "#谢尔宾斯三角形（Sierpinskitriangle）\n",
    "!more sierpinski.txt | python ifs.py 100000 < sierpinski.txt"
   ]
  },
  {
   "cell_type": "code",
   "execution_count": 6,
   "metadata": {},
   "outputs": [],
   "source": [
    "#巴恩斯利蕨（Barnsley fern）\n",
    "!more barnsley.txt |python ifs.py 1000000 < barnsley.txt "
   ]
  },
  {
   "cell_type": "code",
   "execution_count": 13,
   "metadata": {},
   "outputs": [],
   "source": [
    "#珊瑚虫（Coral）\n",
    "!python ifs.py 100000 < coral.txt"
   ]
  },
  {
   "cell_type": "code",
   "execution_count": 14,
   "metadata": {},
   "outputs": [],
   "source": [
    "#未知名叶子\n",
    "!python ifs.py 100000 < culcita.txt"
   ]
  },
  {
   "cell_type": "code",
   "execution_count": 15,
   "metadata": {},
   "outputs": [],
   "source": [
    "#毛蕨\n",
    "!python ifs.py 100000 < cyclosorus.txt"
   ]
  },
  {
   "cell_type": "code",
   "execution_count": 16,
   "metadata": {},
   "outputs": [],
   "source": [
    "#2333龙（dragon）\n",
    "!python ifs.py 100000 < dragon.txt"
   ]
  },
  {
   "cell_type": "code",
   "execution_count": 17,
   "metadata": {},
   "outputs": [],
   "source": [
    "#鱼骨植物（fishbone）\n",
    "!python ifs.py 100000 < fishbone.txt"
   ]
  },
  {
   "cell_type": "code",
   "execution_count": 18,
   "metadata": {},
   "outputs": [],
   "source": [
    "!python ifs.py 100000 < floor.txt"
   ]
  },
  {
   "cell_type": "code",
   "execution_count": 19,
   "metadata": {},
   "outputs": [],
   "source": [
    "!python ifs.py 100000 < koch.txt"
   ]
  },
  {
   "cell_type": "code",
   "execution_count": 20,
   "metadata": {},
   "outputs": [],
   "source": [
    "!python ifs.py 100000 < spiral.txt"
   ]
  },
  {
   "cell_type": "code",
   "execution_count": 21,
   "metadata": {},
   "outputs": [],
   "source": [
    "!python ifs.py 100000 < swirl.txt"
   ]
  },
  {
   "cell_type": "code",
   "execution_count": 22,
   "metadata": {},
   "outputs": [],
   "source": [
    "!python ifs.py 100000 < tree.txt"
   ]
  },
  {
   "cell_type": "code",
   "execution_count": 23,
   "metadata": {},
   "outputs": [],
   "source": [
    "!python ifs.py 100000 < zigzag.txt"
   ]
  },
  {
   "cell_type": "markdown",
   "metadata": {},
   "source": [
    "## 分形布朗运动（Fractional Brownian motion）"
   ]
  },
  {
   "cell_type": "markdown",
   "metadata": {},
   "source": [
    "分形布朗运动是一个数学模型，用于创建自然界许多凹凸不平形状的逼真分形模型。"
   ]
  },
  {
   "cell_type": "code",
   "execution_count": 50,
   "metadata": {},
   "outputs": [
    {
     "name": "stdout",
     "output_type": "stream",
     "text": [
      "#-----------------------------------------------------------------------\n",
      "# brownian.py\n",
      "#-----------------------------------------------------------------------\n",
      "\n",
      "import sys\n",
      "import math\n",
      "import stddraw\n",
      "import stdrandom\n",
      "\n",
      "#-----------------------------------------------------------------------\n",
      "\n",
      "# Draw a Brownian bridge from (x0, y0) to (x1, y1) with the given\n",
      "# variance and scaleFactor.\n",
      "\n",
      "def curve(x0, y0, x1, y1, variance, scaleFactor):\n",
      "    if (x1 - x0) < .01:\n",
      "        stddraw.line(x0, y0, x1, y1)\n",
      "        stddraw.show(20.0)\n",
      "        return\n",
      "    xm = (x0 + x1) / 2.0\n",
      "    ym = (y0 + y1) / 2.0\n",
      "    delta = stdrandom.gaussian(0, math.sqrt(variance))\n",
      "    curve(x0, y0, xm, ym+delta, variance/scaleFactor, scaleFactor)\n",
      "    curve(xm, ym+delta, x1, y1, variance/scaleFactor, scaleFactor)\n",
      "\n",
      "#-----------------------------------------------------------------------\n",
      "\n",
      "# Accept a Hurst exponent as a command-line argument.\n",
      "# Use the Hurst exponent to compute a scale factor.\n",
      "# Draw a Brownian bridge from (0, .5) to (1.0, .5) with\n",
      "# variance .01 and that scale factor.\n",
      "\n",
      "def main():\n",
      "    hurstExponent = float(sys.argv[1])\n",
      "    stddraw.setPenRadius(0.0)\n",
      "    stddraw.clear(stddraw.LIGHT_GRAY)\n",
      "    scaleFactor = 2 ** (2.0 * hurstExponent)\n",
      "    curve(0, .5, 1.0, .5, .01, scaleFactor)\n",
      "    stddraw.show()\n",
      "\n",
      "if __name__ == '__main__':\n",
      "    main()\n"
     ]
    }
   ],
   "source": [
    "!more brownian.py \n",
    "!python brownian.py 1 | python brownian.py .5 | python brownian.py .05"
   ]
  },
  {
   "cell_type": "markdown",
   "metadata": {},
   "source": [
    "程序的实现基于***中点偏移法（midpoint displacement method）***。递归的基本情况是绘制两个端点之间的一条直线。\n",
    "* 计算区间的中点\n",
    "* 把中点的y坐标增加一个随机分量$\\sigma$,$\\sigma$抽取满足均值为0和指定偏差的高斯分布。\n",
    "* 重复子区间，把偏差除以指定的缩放因子$\\beta$。<br\\>\n",
    "\n",
    "曲线的形状受控于两个参数：***波动性（Volatility,偏差的初始值）***控制图形偏离连接两个点之间直线的幅度。***赫斯特指数（Hurst exponent）***则控制曲线的光滑度。"
   ]
  },
  {
   "cell_type": "markdown",
   "metadata": {},
   "source": [
    "## 练习：H树生成过程"
   ]
  },
  {
   "cell_type": "code",
   "execution_count": 54,
   "metadata": {},
   "outputs": [
    {
     "name": "stdout",
     "output_type": "stream",
     "text": [
      "#-----------------------------------------------------------------------\n",
      "# htree.py\n",
      "#-----------------------------------------------------------------------\n",
      "\n",
      "import stddraw\n",
      "import sys\n",
      "\n",
      "#-----------------------------------------------------------------------\n",
      "\n",
      "# Draw to standard draw a level n H-tree centered at (x. y) with lines\n",
      "# of length lineLength.\n",
      "\n",
      "def draw(n, lineLength, x, y):\n",
      "    if n == 0:\n",
      "        stddraw.show(1.0)\n",
      "        return        \n",
      "    x0 = x - lineLength/2\n",
      "    x1 = x + lineLength/2\n",
      "    y0 = y - lineLength/2\n",
      "    y1 = y + lineLength/2\n",
      "        \n",
      "    stddraw.line(x0, y, x1, y)\n",
      "    stddraw.line(x0, y0, x0, y1)\n",
      "    stddraw.line(x1, y0, x1, y1)\n",
      "\n",
      "    draw(n-1, lineLength/2, x0, y0)\n",
      "    draw(n-1, lineLength/2, x0, y1)\n",
      "    draw(n-1, lineLength/2, x1, y0)\n",
      "    draw(n-1, lineLength/2, x1, y1)\n",
      "\n",
      "#-----------------------------------------------------------------------\n",
      "\n",
      "# Accept integer n as a command-line argument. Draw a level n H-tree\n",
      "# centered at (.5, .5) with lines of length .5.\n",
      "\n",
      "def main():\n",
      "    stddraw.clear()\n",
      "    n = int(sys.argv[1])\n",
      "    stddraw.setPenRadius(0.0)\n",
      "    draw(n, .5, .5, .5)\n",
      "    stddraw.show()\n",
      "    \n",
      "if __name__ == '__main__':\n",
      "    main()\n"
     ]
    }
   ],
   "source": [
    "!more htree.py\n",
    "!python htree.py 7"
   ]
  }
 ],
 "metadata": {
  "kernelspec": {
   "display_name": "Python 3",
   "language": "python",
   "name": "python3"
  },
  "language_info": {
   "codemirror_mode": {
    "name": "ipython",
    "version": 3
   },
   "file_extension": ".py",
   "mimetype": "text/x-python",
   "name": "python",
   "nbconvert_exporter": "python",
   "pygments_lexer": "ipython3",
   "version": "3.6.3"
  }
 },
 "nbformat": 4,
 "nbformat_minor": 2
}
