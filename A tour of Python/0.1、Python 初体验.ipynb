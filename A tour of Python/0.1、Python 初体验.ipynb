{
 "cells": [
  {
   "cell_type": "markdown",
   "metadata": {},
   "source": [
    "# Python数据科学入门代码手册"
   ]
  },
  {
   "cell_type": "markdown",
   "metadata": {},
   "source": [
    "*本文整理自《云溪社区·从入门到精通，Python数据科学简洁教程》*\n",
    "\n",
    "原文强烈推荐使用Anaconda，我想打开了这个Jupyter环境的人也不需要介绍Anaconda如何安装的了吧。所以直接开始正文。"
   ]
  },
  {
   "cell_type": "markdown",
   "metadata": {},
   "source": [
    "## 基础知识"
   ]
  },
  {
   "cell_type": "markdown",
   "metadata": {},
   "source": [
    "在你深入了解Python的数据科学库之前，你首先需要学习一些Python的基础知识。Python是一门面向对象的编程语言。在Python中，对象既可以赋值给一个变量，也可以作为参数传递给一个函数。以下都是Python中的对象：**数字、字符串、列表、元组、集合、字典、函数**以及**类**。\n",
    "\n",
    "Python中的函数与普通数学中的函数基本上是一致的——它接收输入数据，对数据进行处理并输出结果。输出的结果完全取决于函数是如何被设计的。另一方面，Python中的类是被设计为输出其他对象的对象的原型。\n",
    "\n",
    "如果你的目标是编写快速、可复用、易于修改的Python代码，那么你必须使用函数和类。使用函数和类有助于保证代码的高效与整洁"
   ]
  },
  {
   "cell_type": "markdown",
   "metadata": {},
   "source": [
    "## 科学计算：Numpy与Scipy"
   ]
  },
  {
   "cell_type": "markdown",
   "metadata": {},
   "source": [
    "Numpy是一个主要用于处理n维数组对象的Python工具包，而Scipy则提供了许多数学算法与复杂函数的实现，可用来扩展Numpy库的功能。Scipy库为Python添加了一些专门的科学函数，以应对数据科学中的一些特定任务。\n",
    "\n",
    "为了在Python中使用Numpy<font color=#92D050>（或其他任何Python库）</font>，你必须首先导入对应的工具库。"
   ]
  },
  {
   "cell_type": "code",
   "execution_count": 1,
   "metadata": {},
   "outputs": [
    {
     "name": "stdout",
     "output_type": "stream",
     "text": [
      "[89 56 34 76 89 98]\n",
      "int32\n"
     ]
    }
   ],
   "source": [
    "#easiest way to create an array is by using an array function.\n",
    "import numpy\n",
    "\n",
    "scores = [89, 56, 34, 76, 89, 98]\n",
    "first_arr = numpy.array(scores)\n",
    "print(first_arr)\n",
    "print(first_arr.dtype)"
   ]
  },
  {
   "cell_type": "markdown",
   "metadata": {},
   "source": [
    "np.array(scores) 将一个列表转换成一个数组。\n",
    "当你使用普通的Python程序时——未使用任何外部扩展<font color=#92D050>（例如工具库）</font>的Python程序——你只能受限地使用一维列表来存储数据。但是，如果你使用Numpy库来扩展Python，你可以直接使用n维数组。<font color=#92D050>（如果你想知道的话，n维数组是包含一个或多个维度的数组。）</font>\n",
    "\n",
    "最开始就学习Numpy，是因为在使用Python进行科学计算时Numpy必不可少。对Numpy的深入了解将有助于你高效地使用Pandas和Scipy这样的工具库。"
   ]
  },
  {
   "cell_type": "markdown",
   "metadata": {},
   "source": [
    "## 数据再加工：Pandas"
   ]
  },
  {
   "cell_type": "markdown",
   "metadata": {},
   "source": [
    "Pandas是数据再加工过程中使用的最为广泛的工具。它包含为使数据分析更加快速便捷而设计的高级数据结构与数据操作工具。对于使用R语言进行统计计算的用户，一定不会对DataFrame的变量名感到陌生。\n",
    "\n",
    "Pandas是Python成长为一个强大而高效的数据分析平台的关键因素之一。\n",
    "接下来，我将向你展示如何使用Pandas处理一个小型数据集。"
   ]
  },
  {
   "cell_type": "code",
   "execution_count": 2,
   "metadata": {},
   "outputs": [
    {
     "data": {
      "text/html": [
       "<div>\n",
       "<style>\n",
       "    .dataframe thead tr:only-child th {\n",
       "        text-align: right;\n",
       "    }\n",
       "\n",
       "    .dataframe thead th {\n",
       "        text-align: left;\n",
       "    }\n",
       "\n",
       "    .dataframe tbody tr th {\n",
       "        vertical-align: top;\n",
       "    }\n",
       "</style>\n",
       "<table border=\"1\" class=\"dataframe\">\n",
       "  <thead>\n",
       "    <tr style=\"text-align: right;\">\n",
       "      <th></th>\n",
       "      <th>Language</th>\n",
       "      <th>Population</th>\n",
       "      <th>State</th>\n",
       "    </tr>\n",
       "  </thead>\n",
       "  <tbody>\n",
       "    <tr>\n",
       "      <th>0</th>\n",
       "      <td>Gujarati</td>\n",
       "      <td>36</td>\n",
       "      <td>Gujarat</td>\n",
       "    </tr>\n",
       "    <tr>\n",
       "      <th>1</th>\n",
       "      <td>Tamil</td>\n",
       "      <td>44</td>\n",
       "      <td>Tamil Nadu</td>\n",
       "    </tr>\n",
       "    <tr>\n",
       "      <th>2</th>\n",
       "      <td>Telugu</td>\n",
       "      <td>67</td>\n",
       "      <td>Andhra</td>\n",
       "    </tr>\n",
       "    <tr>\n",
       "      <th>3</th>\n",
       "      <td>Kannada</td>\n",
       "      <td>89</td>\n",
       "      <td>Karnataka</td>\n",
       "    </tr>\n",
       "    <tr>\n",
       "      <th>4</th>\n",
       "      <td>Malayalam</td>\n",
       "      <td>34</td>\n",
       "      <td>Kerala</td>\n",
       "    </tr>\n",
       "  </tbody>\n",
       "</table>\n",
       "</div>"
      ],
      "text/plain": [
       "    Language  Population       State\n",
       "0   Gujarati          36     Gujarat\n",
       "1      Tamil          44  Tamil Nadu\n",
       "2     Telugu          67      Andhra\n",
       "3    Kannada          89   Karnataka\n",
       "4  Malayalam          34      Kerala"
      ]
     },
     "execution_count": 2,
     "metadata": {},
     "output_type": "execute_result"
    }
   ],
   "source": [
    "import pandas\n",
    "\n",
    "states = {'State': ['Gujarat', 'Tamil Nadu', 'Andhra', 'Karnataka', 'Kerala'],\n",
    "          'Population': [36, 44, 67, 89, 34],\n",
    "          'Language': ['Gujarati', 'Tamil', 'Telugu', 'Kannada', 'Malayalam']}\n",
    "india = pandas.DataFrame(states)\n",
    "india"
   ]
  },
  {
   "cell_type": "markdown",
   "metadata": {},
   "source": [
    "DataFrame是一个电子表格结构，包含一个有序的列集合。每个列都可以有不同的变量类型。DataFrame既包含行索引，也包含列索引。"
   ]
  },
  {
   "cell_type": "markdown",
   "metadata": {},
   "source": [
    "## 可视化：Matplotlib + Seaborn + Bokeh"
   ]
  },
  {
   "cell_type": "markdown",
   "metadata": {},
   "source": [
    "Matlplotlib是Python中一个用于数据可视化的模块。Matplotlib可使你轻松地绘制线形图、饼状图、直方图以及其他专业图表。\n",
    "\n",
    "你可以使用Matplotlib自定义图表中的每个细节。当你在IPython中使用Matplotlib时，Matplotlib具备缩放、平移等交互特性。Matplotlib在所有操作系统上均支持不同的GUI后端，同时，它也可以将图表导出为若干种常见的图像格式，如PDF、SVG、JPG、PNG、BMP、GIF等。"
   ]
  },
  {
   "cell_type": "code",
   "execution_count": 3,
   "metadata": {},
   "outputs": [
    {
     "data": {
      "text/plain": [
       "[<matplotlib.lines.Line2D at 0x22d93d6ecc0>]"
      ]
     },
     "execution_count": 3,
     "metadata": {},
     "output_type": "execute_result"
    },
    {
     "data": {
      "image/png": "[encoded data removed]",
      "text/plain": [
       "<matplotlib.figure.Figure at 0x22d92ea0b38>"
      ]
     },
     "metadata": {},
     "output_type": "display_data"
    }
   ],
   "source": [
    "%matplotlib inline\n",
    "import matplotlib.pyplot as plt\n",
    "import numpy\n",
    "\n",
    "x = range(100)\n",
    "y = [val**2 for val in x]\n",
    "plt.plot(x, y)"
   ]
  },
  {
   "cell_type": "markdown",
   "metadata": {},
   "source": [
    "## 机器学习: Scikit-learn"
   ]
  },
  {
   "cell_type": "markdown",
   "metadata": {},
   "source": [
    "机器学习的目标在于通过向机器（软件）提供一些示例（如何执行任务或者执行什么无法完成任务）来教会机器执行任务。\n",
    "\n",
    "Python中有很多机器学习的工具库，然而，Scikit-learn是最受欢迎的一个。Scikit-learn建立在Numpy、Scipy与Matplotlib库之上。基于Scikit-learn库，你几乎可以实现所有的机器学习算法，如回归、聚类、分类等等。因此，如果你打算使用Python学习机器学习，那么我建议你从学习Scikit-learn开始。\n",
    "\n",
    "K近邻算法可用于分类或回归。下面这段代码展示了如何使用KNN模型对鸢尾花数据集进行预测。"
   ]
  },
  {
   "cell_type": "code",
   "execution_count": 4,
   "metadata": {},
   "outputs": [
    {
     "name": "stdout",
     "output_type": "stream",
     "text": [
      "KNeighborsClassifier(algorithm='auto', leaf_size=30, metric='minkowski',\n",
      "           metric_params=None, n_jobs=1, n_neighbors=5, p=2,\n",
      "           weights='uniform')\n",
      "             precision    recall  f1-score   support\n",
      "\n",
      "          0       1.00      1.00      1.00        50\n",
      "          1       0.96      0.94      0.95        50\n",
      "          2       0.94      0.96      0.95        50\n",
      "\n",
      "avg / total       0.97      0.97      0.97       150\n",
      "\n",
      "[[50  0  0]\n",
      " [ 0 47  3]\n",
      " [ 0  2 48]]\n"
     ]
    }
   ],
   "source": [
    "import sklearn\n",
    "\n",
    "# k-Nearest Neighbor\n",
    "from sklearn import datasets\n",
    "from sklearn import metrics\n",
    "from sklearn.neighbors import KNeighborsClassifier\n",
    "\n",
    "# load iris the datasets\n",
    "dataset = datasets.load_iris()\n",
    "\n",
    "#fit a k-nearest neighbor model to the data\n",
    "model = KNeighborsClassifier()\n",
    "model.fit(dataset.data, dataset.target)\n",
    "print(model)\n",
    "\n",
    "#make predictions\n",
    "expected = dataset.target\n",
    "predicted = model.predict(dataset.data)\n",
    "\n",
    "#summarize the fit of the model\n",
    "print(metrics.classification_report(expected, predicted))\n",
    "print(metrics.confusion_matrix(expected, predicted))"
   ]
  },
  {
   "cell_type": "markdown",
   "metadata": {},
   "source": [
    "其他的一些机器学习库还有：\n",
    "* Theano\n",
    "* Pylearn2\n",
    "* Pyevolve\n",
    "* Caffe\n",
    "* Tensorflow"
   ]
  },
  {
   "cell_type": "markdown",
   "metadata": {},
   "source": [
    "## 统计学：Statsmodels与Scipy.stats"
   ]
  },
  {
   "cell_type": "markdown",
   "metadata": {},
   "source": [
    "Statsmodels和Scipy.stats是Python中两个热门的统计学习模块。Scipy.stats主要用于概率分布的实现。另一方面，Statsmodels则为统计学模型提供了类似于R的公式框架。包括描述统计学、统计检验、绘图函数以及结果统计在内的扩展功能均适用于不同类型的数据以及每一种估计器。\n",
    "\n",
    "下面的代码展示了如何使用Scipy.stats模块调用正态分布。"
   ]
  },
  {
   "cell_type": "markdown",
   "metadata": {},
   "source": [
    "$$ P(\\chi;\\mu,\\sigma) = \\frac{1}{\\sqrt{2\\pi\\sigma^2}}\\exp(-\\frac{(\\chi - \\mu)^2}{2\\sigma^2}),        \\chi \\in [-\\infty;\\infty] $$"
   ]
  },
  {
   "cell_type": "code",
   "execution_count": 5,
   "metadata": {},
   "outputs": [
    {
     "data": {
      "image/png": "[encoded data removed]",
      "text/plain": [
       "<matplotlib.figure.Figure at 0x22d919c5630>"
      ]
     },
     "metadata": {},
     "output_type": "display_data"
    }
   ],
   "source": [
    "%matplotlib inline\n",
    "import matplotlib.pyplot as plt\n",
    "import scipy.stats as stats\n",
    "import numpy\n",
    "\n",
    "mu = 0 # mean\n",
    "sigma = 1 # standard deviation\n",
    "x = numpy.arange(-5,5,0.1)\n",
    "y = stats.norm.pdf(x, 0, 1)\n",
    "plt.plot(x,y)\n",
    "plt.title('Normal: $\\mu$=%.1f, $\\sigma^2$=%.1f' % (mu, sigma))\n",
    "plt.xlabel('x')\n",
    "plt.ylabel('Probability density') # probability of observing each of these observations\n",
    "plt.show()"
   ]
  },
  {
   "cell_type": "markdown",
   "metadata": {},
   "source": [
    "正态分布是一种连续的输入为实线上任何值的分布或函数。正态分布可通过以下两个参数进行参数化：分布的均值μ以及方差σ2。"
   ]
  },
  {
   "cell_type": "markdown",
   "metadata": {},
   "source": [
    "## 结论"
   ]
  },
  {
   "cell_type": "markdown",
   "metadata": {},
   "source": [
    "现在，你知道了Python的一些基础知识以及这些工具库的用途。是时候使用你所学到的知识来解决具体的数据分析问题了。你可以先处理结构化的数据集，之后可以解决那些复杂的非结构化数据分析问题了。"
   ]
  }
 ],
 "metadata": {
  "kernelspec": {
   "display_name": "Python 3",
   "language": "python",
   "name": "python3"
  },
  "language_info": {
   "codemirror_mode": {
    "name": "ipython",
    "version": 3
   },
   "file_extension": ".py",
   "mimetype": "text/x-python",
   "name": "python",
   "nbconvert_exporter": "python",
   "pygments_lexer": "ipython3",
   "version": "3.6.3"
  },
  "widgets": {
   "application/vnd.jupyter.widget-state+json": {
    "state": {},
    "version_major": 2,
    "version_minor": 0
   }
  }
 },
 "nbformat": 4,
 "nbformat_minor": 2
}
